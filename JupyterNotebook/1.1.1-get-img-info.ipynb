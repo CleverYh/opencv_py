{
 "cells": [
  {
   "cell_type": "markdown",
   "metadata": {},
   "source": [
    "# 1.1.1-get-img-info"
   ]
  },
  {
   "cell_type": "code",
   "execution_count": 1,
   "metadata": {},
   "outputs": [
    {
     "name": "stdout",
     "output_type": "stream",
     "text": [
      "(2368, 4096, 3) 29097984 uint8\n"
     ]
    }
   ],
   "source": [
    "# %load ../1.1.1-get-img-info.py\n",
    "from cv2 import cv2\n",
    "import numpy as np\n",
    "\n",
    "img = cv2.imread(r'..\\pictures\\a.jpg')\n",
    "\n",
    "print(img.shape, img.size, img.dtype)"
   ]
  },
  {
   "cell_type": "markdown",
   "metadata": {},
   "source": [
    "result: (2368, 4096, 3) 29097984 uint8"
   ]
  }
 ],
 "metadata": {
  "kernelspec": {
   "display_name": "Python 3",
   "language": "python",
   "name": "python3"
  },
  "language_info": {
   "codemirror_mode": {
    "name": "ipython",
    "version": 3
   },
   "file_extension": ".py",
   "mimetype": "text/x-python",
   "name": "python",
   "nbconvert_exporter": "python",
   "pygments_lexer": "ipython3",
   "version": "3.7.4"
  }
 },
 "nbformat": 4,
 "nbformat_minor": 4
}
